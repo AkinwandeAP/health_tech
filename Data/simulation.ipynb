{
 "cells": [
  {
   "cell_type": "code",
   "execution_count": 1,
   "id": "d6b9111d",
   "metadata": {},
   "outputs": [],
   "source": [
    "import pandas as pd\n",
    "import numpy as np"
   ]
  },
  {
   "cell_type": "code",
   "execution_count": null,
   "id": "8c440820",
   "metadata": {},
   "outputs": [],
   "source": [
    "# Set random seed for reproducibility\n",
    "np.random.seed(42)\n",
    "\n",
    "# Number of samples\n",
    "n_samples = 10000\n",
    "\n",
    "# Initialize data dictionary\n",
    "data = {}\n",
    "\n",
    "# Demographic variables\n",
    "data['age'] = np.clip(np.random.normal(50, 15, n_samples), 18, 100).astype(int)\n",
    "data['sex'] = np.random.choice([0, 1], n_samples, p=[0.5, 0.5])  # 0=Female, 1=Male\n",
    "data['family_history'] = np.random.choice([0, 1], n_samples, p=[0.8, 0.2])\n",
    "\n",
    "# Target: Cancer diagnosis\n",
    "data['cancer'] = np.random.choice([0, 1], n_samples, p=[0.7, 0.3])\n",
    "\n",
    "# Symptoms (conditional on cancer)\n",
    "data['fatigue'] = np.where(\n",
    "    data['cancer'] == 1,\n",
    "    np.random.choice([0, 1], n_samples, p=[0.4, 0.6]),\n",
    "    np.random.choice([0, 1], n_samples, p=[0.7, 0.3])\n",
    ")\n",
    "data['weight_loss'] = np.where(\n",
    "    data['cancer'] == 1,\n",
    "    np.random.choice([0, 1], n_samples, p=[0.6, 0.4]),\n",
    "    np.random.choice([0, 1], n_samples, p=[0.9, 0.1])\n",
    ")\n",
    "data['pain'] = np.where(\n",
    "    data['cancer'] == 1,\n",
    "    np.random.choice([0, 1], n_samples, p=[0.5, 0.5]),\n",
    "    np.random.choice([0, 1], n_samples, p=[0.8, 0.2])\n",
    ")\n",
    "data['fever'] = np.where(\n",
    "    data['cancer'] == 1,\n",
    "    np.random.choice([0, 1], n_samples, p=[0.7, 0.3]),\n",
    "    np.random.choice([0, 1], n_samples, p=[0.9, 0.1])\n",
    ")\n",
    "data['night_sweats'] = np.where(\n",
    "    data['cancer'] == 1,\n",
    "    np.random.choice([0, 1], n_samples, p=[0.75, 0.25]),\n",
    "    np.random.choice([0, 1], n_samples, p=[0.95, 0.05])\n",
    ")\n",
    "data['bleeding'] = np.where(\n",
    "    data['cancer'] == 1,\n",
    "    np.random.choice([0, 1], n_samples, p=[0.7, 0.3]),\n",
    "    np.random.choice([0, 1], n_samples, p=[0.95, 0.05])\n",
    ")\n",
    "data['lumps'] = np.where(\n",
    "    data['cancer'] == 1,\n",
    "    np.random.choice([0, 1], n_samples, p=[0.65, 0.35]),\n",
    "    np.random.choice([0, 1], n_samples, p=[0.9, 0.1])\n",
    ")\n",
    "data['cough'] = np.where(\n",
    "    data['cancer'] == 1,\n",
    "    np.random.choice([0, 1], n_samples, p=[0.6, 0.4]),\n",
    "    np.random.choice([0, 1], n_samples, p=[0.85, 0.15])\n",
    ")\n",
    "data['bowel_bladder_changes'] = np.where(\n",
    "    data['cancer'] == 1,\n",
    "    np.random.choice([0, 1], n_samples, p=[0.7, 0.3]),\n",
    "    np.random.choice([0, 1], n_samples, p=[0.9, 0.1])\n",
    ")\n",
    "\n",
    "# Severity indicators\n",
    "data['pain_severity'] = np.where(\n",
    "    data['cancer'] == 1,\n",
    "    np.clip(np.random.normal(6, 2, n_samples), 0, 10).astype(int),\n",
    "    np.clip(np.random.normal(3, 2, n_samples), 0, 10).astype(int)\n",
    ")\n",
    "data['weight_loss_amount'] = np.where(\n",
    "    data['cancer'] == 1,\n",
    "    np.random.exponential(5, n_samples),\n",
    "    np.random.uniform(0, 2, n_samples)\n",
    ")\n",
    "data['bleeding_severity'] = np.where(\n",
    "    data['cancer'] == 1,\n",
    "    np.random.choice([0, 1, 2, 3], n_samples, p=[0.3, 0.3, 0.2, 0.2]),\n",
    "    np.random.choice([0, 1, 2, 3], n_samples, p=[0.95, 0.04, 0.01, 0.0])\n",
    ")\n",
    "data['vital_sign_abnormalities'] = np.where(\n",
    "    data['cancer'] == 1,\n",
    "    np.random.choice([0, 1], n_samples, p=[0.7, 0.3]),\n",
    "    np.random.choice([0, 1], n_samples, p=[0.95, 0.05])\n",
    ")\n",
    "\n",
    "# Target: Emergency status (based on cancer and severity)\n",
    "data['emergency'] = np.where(\n",
    "    (data['cancer'] == 1) & (\n",
    "        (data['pain_severity'] >= 8) | \n",
    "        (data['bleeding_severity'] >= 2) | \n",
    "        (data['vital_sign_abnormalities'] == 1)\n",
    "    ),\n",
    "    np.random.choice([0, 1], n_samples, p=[0.2, 0.8]),  # 80% emergency if criteria met\n",
    "    np.random.choice([0, 1], n_samples, p=[0.99, 0.01])  # 1% emergency otherwise\n",
    ")"
   ]
  },
  {
   "cell_type": "code",
   "execution_count": 4,
   "id": "f468be52",
   "metadata": {},
   "outputs": [
    {
     "name": "stdout",
     "output_type": "stream",
     "text": [
      "Coded dataset saved as 'coded_data.csv'\n"
     ]
    }
   ],
   "source": [
    "# Create DataFrame for coded data\n",
    "coded_df = pd.DataFrame(data)\n",
    "\n",
    "# Save coded data\n",
    "coded_df.to_csv('coded_data.csv', index=False)\n",
    "print(\"Coded dataset saved as 'coded_data.csv'\")"
   ]
  },
  {
   "cell_type": "code",
   "execution_count": 8,
   "id": "de654d10",
   "metadata": {},
   "outputs": [
    {
     "name": "stdout",
     "output_type": "stream",
     "text": [
      "\n",
      "First 5 rows of coded_data.csv:\n",
      "   age  sex  family_history  cancer  fatigue  weight_loss  pain  fever  \\\n",
      "0   57    0               0       0        1            0     0      0   \n",
      "1   47    0               0       0        1            1     0      1   \n",
      "2   59    0               1       0        0            0     0      1   \n",
      "3   72    0               0       0        1            0     0      0   \n",
      "4   46    1               0       0        1            0     0      0   \n",
      "\n",
      "   night_sweats  bleeding  lumps  cough  bowel_bladder_changes  pain_severity  \\\n",
      "0             0         0      0      0                      0              3   \n",
      "1             0         0      0      0                      0              1   \n",
      "2             0         0      0      0                      0              5   \n",
      "3             0         0      0      0                      0              2   \n",
      "4             0         0      0      0                      0              6   \n",
      "\n",
      "   weight_loss_amount  bleeding_severity  vital_sign_abnormalities  emergency  \n",
      "0            1.182481                  0                         0          0  \n",
      "1            1.706548                  0                         0          0  \n",
      "2            1.178133                  0                         0          1  \n",
      "3            0.386875                  0                         0          0  \n",
      "4            1.026792                  0                         0          0  \n"
     ]
    }
   ],
   "source": [
    "# Display first few rows for verification\n",
    "print(\"\\nFirst 5 rows of coded_data.csv:\")\n",
    "print(coded_df.head())"
   ]
  },
  {
   "cell_type": "code",
   "execution_count": 5,
   "id": "02c12192",
   "metadata": {},
   "outputs": [],
   "source": [
    "# Create raw data by converting binary/categorical variables to strings\n",
    "raw_df = coded_df.copy()\n",
    "\n",
    "# Convert binary variables to Yes/No\n",
    "binary_columns = [\n",
    "    'family_history', 'cancer', 'fatigue', 'weight_loss', 'pain', 'fever', \n",
    "    'night_sweats', 'bleeding', 'lumps', 'cough', 'bowel_bladder_changes', \n",
    "    'vital_sign_abnormalities', 'emergency'\n",
    "]\n",
    "for col in binary_columns:\n",
    "    raw_df[col] = raw_df[col].map({0: 'No', 1: 'Yes'})\n",
    "\n",
    "# Convert sex to Male/Female\n",
    "raw_df['sex'] = raw_df['sex'].map({0: 'Female', 1: 'Male'})\n",
    "\n",
    "# Convert bleeding_severity to None/Mild/Moderate/Severe\n",
    "raw_df['bleeding_severity'] = raw_df['bleeding_severity'].map({\n",
    "    0: 'None', 1: 'Mild', 2: 'Moderate', 3: 'Severe'\n",
    "})\n",
    "\n",
    "# Rename weight_loss_amount to include unit\n",
    "raw_df = raw_df.rename(columns={'weight_loss_amount': 'weight_loss_amount_kg'})"
   ]
  },
  {
   "cell_type": "code",
   "execution_count": 6,
   "id": "4dd0e959",
   "metadata": {},
   "outputs": [
    {
     "name": "stdout",
     "output_type": "stream",
     "text": [
      "Raw dataset saved as 'raw_data.csv'\n"
     ]
    }
   ],
   "source": [
    "# Save raw data\n",
    "raw_df.to_csv('raw_data.csv', index=False)\n",
    "print(\"Raw dataset saved as 'raw_data.csv'\")"
   ]
  },
  {
   "cell_type": "code",
   "execution_count": 9,
   "id": "7a2c62df",
   "metadata": {},
   "outputs": [
    {
     "name": "stdout",
     "output_type": "stream",
     "text": [
      "\n",
      "First 5 rows of raw_data.csv:\n",
      "   age     sex family_history cancer fatigue weight_loss pain fever  \\\n",
      "0   57  Female             No     No     Yes          No   No    No   \n",
      "1   47  Female             No     No     Yes         Yes   No   Yes   \n",
      "2   59  Female            Yes     No      No          No   No   Yes   \n",
      "3   72  Female             No     No     Yes          No   No    No   \n",
      "4   46    Male             No     No     Yes          No   No    No   \n",
      "\n",
      "  night_sweats bleeding lumps cough bowel_bladder_changes  pain_severity  \\\n",
      "0           No       No    No    No                    No              3   \n",
      "1           No       No    No    No                    No              1   \n",
      "2           No       No    No    No                    No              5   \n",
      "3           No       No    No    No                    No              2   \n",
      "4           No       No    No    No                    No              6   \n",
      "\n",
      "   weight_loss_amount_kg bleeding_severity vital_sign_abnormalities emergency  \n",
      "0               1.182481              None                       No        No  \n",
      "1               1.706548              None                       No        No  \n",
      "2               1.178133              None                       No       Yes  \n",
      "3               0.386875              None                       No        No  \n",
      "4               1.026792              None                       No        No  \n"
     ]
    }
   ],
   "source": [
    "# Display first few rows for verification\n",
    "print(\"\\nFirst 5 rows of raw_data.csv:\")\n",
    "print(raw_df.head())"
   ]
  }
 ],
 "metadata": {
  "kernelspec": {
   "display_name": "Python 3",
   "language": "python",
   "name": "python3"
  },
  "language_info": {
   "codemirror_mode": {
    "name": "ipython",
    "version": 3
   },
   "file_extension": ".py",
   "mimetype": "text/x-python",
   "name": "python",
   "nbconvert_exporter": "python",
   "pygments_lexer": "ipython3",
   "version": "3.12.1"
  }
 },
 "nbformat": 4,
 "nbformat_minor": 5
}
